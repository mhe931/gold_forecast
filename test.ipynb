{
 "cells": [
  {
   "cell_type": "code",
   "execution_count": 1,
   "metadata": {},
   "outputs": [],
   "source": [
    "import pandas as pd"
   ]
  },
  {
   "cell_type": "code",
   "execution_count": 3,
   "metadata": {},
   "outputs": [
    {
     "name": "stdout",
     "output_type": "stream",
     "text": [
      "Index(['('Date', '')', '('Close', 'GC=F')', '('High', 'GC=F')',\n",
      "       '('Low', 'GC=F')', '('Open', 'GC=F')', '('Volume', 'GC=F')'],\n",
      "      dtype='object')\n",
      "  ('Date', '')  ('Close', 'GC=F')  ('High', 'GC=F')  ('Low', 'GC=F')  \\\n",
      "0   2020-03-18        1477.300049       1542.000000      1477.300049   \n",
      "1   2020-03-19        1478.599976       1491.599976      1471.000000   \n",
      "2   2020-03-20        1484.000000       1484.000000      1483.500000   \n",
      "3   2020-03-23        1567.000000       1567.000000      1490.199951   \n",
      "4   2020-03-24        1660.199951       1685.500000      1592.699951   \n",
      "\n",
      "   ('Open', 'GC=F')  ('Volume', 'GC=F')  \n",
      "0       1537.500000                 333  \n",
      "1       1481.500000                 262  \n",
      "2       1483.500000                  14  \n",
      "3       1505.300049                  51  \n",
      "4       1592.699951                 442  \n"
     ]
    }
   ],
   "source": [
    "gold_price = pd.read_parquet('gold_prices.parquet')\n",
    "print(gold_price.columns)\n",
    "print(gold_price.head())"
   ]
  },
  {
   "cell_type": "code",
   "execution_count": 6,
   "metadata": {},
   "outputs": [
    {
     "data": {
      "text/plain": [
       "('Date', '')          1257\n",
       "('Close', 'GC=F')     1257\n",
       "('High', 'GC=F')      1257\n",
       "('Low', 'GC=F')       1257\n",
       "('Open', 'GC=F')      1257\n",
       "('Volume', 'GC=F')    1257\n",
       "dtype: int64"
      ]
     },
     "execution_count": 6,
     "metadata": {},
     "output_type": "execute_result"
    }
   ],
   "source": [
    "gold_price.count()"
   ]
  }
 ],
 "metadata": {
  "kernelspec": {
   "display_name": ".venv",
   "language": "python",
   "name": "python3"
  },
  "language_info": {
   "codemirror_mode": {
    "name": "ipython",
    "version": 3
   },
   "file_extension": ".py",
   "mimetype": "text/x-python",
   "name": "python",
   "nbconvert_exporter": "python",
   "pygments_lexer": "ipython3",
   "version": "3.12.3"
  }
 },
 "nbformat": 4,
 "nbformat_minor": 2
}
